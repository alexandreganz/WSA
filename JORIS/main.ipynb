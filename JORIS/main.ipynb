{
 "cells": [
  {
   "cell_type": "code",
   "execution_count": 36,
   "metadata": {},
   "outputs": [],
   "source": [
    "# imports\n",
    "import cv2\n",
    "import numpy as np\n",
    "\n",
    "from utils.opencv import read_video, write_video, determine_area_to_mask, determine_threshold_colors_for_mask\n",
    "\n",
    "# global parameters\n",
    "INPUT_FULL_VIDEO_FILE_PATH = \"../data/WSA/01-How to charge Pure Charge&Go AX with Pure Dry&Clean _ Signia Hearing Aids.mp4\"\n",
    "OUTPUT_VIDEO_FILE_PATH = \"../data/input/test_video.mp4\"\n",
    "INPUT_IMAGE_FILE_PATH = \"../data/input/test_image.png\"\n",
    "INPUT_IMAGE_FILE_WITHOUT_TEXT_PATH = \"../data/input/test_image_without_text.png\"\n",
    "INPUT_IMAGE_FILE_ONLY_HEARING_AIDS_PATH = \"../data/input/test_image_only_hearing_aids.png\"\n",
    "INPUT_IMAGE_FILE_ONLY_HEARING_AIDS_PATH2 = \"../data/input/test_image_only_hearing_aids2.png\"\n",
    "INPUT_IMAGE_FILE_ONLY_HEARING_AIDS_NO_BRAND_PATH = \"../data/input/test_image_only_hearing_aids_no_brand.png\"\n",
    "INPUT_IMAGE_FILE_ONLY_HEARING_AIDS_SKELETON_PATH = \"../data/input/test_image_only_hearing_aids_skeleton.png\"\n",
    "MASK_FILE_PATH = \"../data/input/mask_hearing_aids.png\"\n",
    "MASK_BRAND_FILE_PATH = \"../data/input/mask_hearing_aids_brand.png\"\n",
    "MASK_SMOOTH_FILE_PATH = \"../data/input/mask_hearing_aids_smooth.png\"\n",
    "\n",
    "# boolean for skipping parts of the processing\n",
    "CREATE_TEST_VIDEO = False\n",
    "CREATE_TEST_IMAGE = False\n",
    "CREATE_TEST_IMAGE_WITHOUT_TEXT = False\n",
    "CREATE_TEST_IMAGE_ONLY_HEARING_AIDS = False\n",
    "CREATE_TEST_IMAGE_ONLY_HEARING_AIDS2 = False\n",
    "REMOVE_BRAND_NAME = False\n",
    "CREATE_BRAND_MASK = False\n",
    "CREATE_MASK = False\n",
    "SMOOTHEN_MASK = False"
   ]
  },
  {
   "cell_type": "code",
   "execution_count": 37,
   "metadata": {},
   "outputs": [],
   "source": [
    "# create test video\n",
    "if CREATE_TEST_VIDEO:\n",
    "    frames_full_video, fps_full_video = read_video(INPUT_FULL_VIDEO_FILE_PATH)\n",
    "    write_video(OUTPUT_VIDEO_FILE_PATH, frames_full_video[360:800], fps_full_video)"
   ]
  },
  {
   "cell_type": "code",
   "execution_count": 38,
   "metadata": {},
   "outputs": [],
   "source": [
    "# create test image\n",
    "if CREATE_TEST_IMAGE:\n",
    "    frames, _ = read_video(OUTPUT_VIDEO_FILE_PATH)\n",
    "    img = frames[0]\n",
    "    print(\"--- Writing test image ---\")\n",
    "    print(f\"path: {INPUT_IMAGE_FILE_PATH}\")\n",
    "    cv2.imwrite(INPUT_IMAGE_FILE_PATH, img)"
   ]
  },
  {
   "cell_type": "code",
   "execution_count": 39,
   "metadata": {},
   "outputs": [],
   "source": [
    "if CREATE_TEST_IMAGE_WITHOUT_TEXT:\n",
    "    img = cv2.imread(INPUT_IMAGE_FILE_PATH)\n",
    "\n",
    "    # determine mask\n",
    "    rectangle_coordinates = determine_area_to_mask(img)\n",
    "    mask, _, _ = determine_threshold_colors_for_mask(img, rectangle_coordinates)\n",
    "\n",
    "    # inpaint with openCV\n",
    "    new_img = cv2.inpaint(img, mask, 3, cv2.INPAINT_NS)\n",
    "\n",
    "    # save image\n",
    "    print(\"--- Writing test image without text ---\")\n",
    "    print(f\"path: {INPUT_IMAGE_FILE_WITHOUT_TEXT_PATH}\")\n",
    "    cv2.imwrite(INPUT_IMAGE_FILE_WITHOUT_TEXT_PATH, new_img)"
   ]
  },
  {
   "cell_type": "code",
   "execution_count": 40,
   "metadata": {},
   "outputs": [],
   "source": [
    "if CREATE_TEST_IMAGE_ONLY_HEARING_AIDS:\n",
    "    img = cv2.imread(INPUT_IMAGE_FILE_WITHOUT_TEXT_PATH)\n",
    "\n",
    "    # determine mask\n",
    "    rectangle_coordinates = determine_area_to_mask(img)\n",
    "    mask, _, _ = determine_threshold_colors_for_mask(img, rectangle_coordinates, invert=True)\n",
    "\n",
    "    # inpaint with openCV\n",
    "    new_img = cv2.inpaint(img, mask, 3, cv2.INPAINT_NS)\n",
    "\n",
    "    # save image\n",
    "    print(\"--- Writing test image with only hearing aids ---\")\n",
    "    print(f\"path: {INPUT_IMAGE_FILE_ONLY_HEARING_AIDS_PATH}\")\n",
    "    cv2.imwrite(INPUT_IMAGE_FILE_ONLY_HEARING_AIDS_PATH, new_img)"
   ]
  },
  {
   "cell_type": "code",
   "execution_count": 41,
   "metadata": {},
   "outputs": [],
   "source": [
    "if CREATE_TEST_IMAGE_ONLY_HEARING_AIDS2:\n",
    "    img = cv2.imread(INPUT_IMAGE_FILE_WITHOUT_TEXT_PATH)\n",
    "\n",
    "    # determine mask\n",
    "    rectangle_coordinates = determine_area_to_mask(img)\n",
    "    mask, _, _ = determine_threshold_colors_for_mask(img, rectangle_coordinates)\n",
    "\n",
    "    # inpaint with openCV\n",
    "    new_img = cv2.inpaint(img, mask, 3, cv2.INPAINT_NS)\n",
    "\n",
    "    # save image\n",
    "    print(\"--- Writing test image with only hearing aids (2) ---\")\n",
    "    print(f\"path: {INPUT_IMAGE_FILE_ONLY_HEARING_AIDS_PATH2}\")\n",
    "    cv2.imwrite(INPUT_IMAGE_FILE_ONLY_HEARING_AIDS_PATH2, new_img)"
   ]
  },
  {
   "cell_type": "code",
   "execution_count": 42,
   "metadata": {},
   "outputs": [],
   "source": [
    "if REMOVE_BRAND_NAME:\n",
    "    img = cv2.imread(INPUT_IMAGE_FILE_ONLY_HEARING_AIDS_PATH)\n",
    "\n",
    "    # determine mask\n",
    "    rectangle_coordinates = determine_area_to_mask(img)\n",
    "    mask, _, _ = determine_threshold_colors_for_mask(img, rectangle_coordinates)\n",
    "\n",
    "    # inpaint with openCV\n",
    "    new_img = cv2.inpaint(img, mask, 3, cv2.INPAINT_NS)\n",
    "\n",
    "    # save image\n",
    "    print(\"--- Writing test image with only hearing aids and no brand ---\")\n",
    "    print(f\"path: {INPUT_IMAGE_FILE_ONLY_HEARING_AIDS_NO_BRAND_PATH}\")\n",
    "    cv2.imwrite(INPUT_IMAGE_FILE_ONLY_HEARING_AIDS_NO_BRAND_PATH, new_img)"
   ]
  },
  {
   "cell_type": "code",
   "execution_count": 43,
   "metadata": {},
   "outputs": [],
   "source": [
    "if CREATE_BRAND_MASK:\n",
    "    img = cv2.imread(INPUT_IMAGE_FILE_ONLY_HEARING_AIDS_PATH)\n",
    "\n",
    "    # determine mask\n",
    "    rectangle_coordinates = determine_area_to_mask(img)\n",
    "    mask, _, _ = determine_threshold_colors_for_mask(img, rectangle_coordinates)\n",
    "\n",
    "    # save mask\n",
    "    print(\"--- Writing mask of brand ---\")\n",
    "    print(f\"path: {MASK_BRAND_FILE_PATH}\")\n",
    "    cv2.imwrite(MASK_BRAND_FILE_PATH, mask)"
   ]
  },
  {
   "cell_type": "code",
   "execution_count": 44,
   "metadata": {},
   "outputs": [],
   "source": [
    "if CREATE_MASK:\n",
    "    img = cv2.imread(INPUT_IMAGE_FILE_ONLY_HEARING_AIDS_NO_BRAND_PATH)\n",
    "\n",
    "    # determine mask\n",
    "    rectangle_coordinates = determine_area_to_mask(img)\n",
    "    mask, _, _ = determine_threshold_colors_for_mask(img, rectangle_coordinates)\n",
    "\n",
    "    # save mask\n",
    "    print(\"--- Writing mask ---\")\n",
    "    print(f\"path: {MASK_FILE_PATH}\")\n",
    "    cv2.imwrite(MASK_FILE_PATH, mask)"
   ]
  },
  {
   "cell_type": "code",
   "execution_count": 45,
   "metadata": {},
   "outputs": [],
   "source": [
    "if SMOOTHEN_MASK:\n",
    "    dilate_factor_close = 25\n",
    "    dilate_factor_open = 3\n",
    "    mask = cv2.imread(MASK_FILE_PATH, 0)\n",
    "    mask = cv2.morphologyEx(mask, cv2.MORPH_OPEN, np.ones((dilate_factor_open, dilate_factor_open), np.uint8), iterations=3)\n",
    "    mask = cv2.morphologyEx(mask, cv2.MORPH_CLOSE, np.ones((dilate_factor_close, dilate_factor_close), np.uint8))\n",
    "    cv2.imwrite(MASK_SMOOTH_FILE_PATH, mask)"
   ]
  },
  {
   "cell_type": "code",
   "execution_count": 64,
   "metadata": {},
   "outputs": [],
   "source": [
    "def change_color_of_hearing_aids(image_path, image_only_hearing_aids_no_brang_path, mask_hearing_aids_path, mask_brand_path):\n",
    "    original_image = cv2.imread(image_path)\n",
    "    img = cv2.imread(image_only_hearing_aids_no_brang_path)\n",
    "    hsv = cv2.cvtColor(cv2.cvtColor(cv2.cvtColor(img, cv2.COLOR_BGR2GRAY), cv2.COLOR_GRAY2BGR), cv2.COLOR_BGR2HSV) # converting into HSV color model (first to gray to filter out weird blocky noise)\n",
    "    h_base, s_base, v_base = cv2.split(hsv)\n",
    "\n",
    "    mask = cv2.imread(mask_hearing_aids_path, 0)\n",
    "    mask_brand = cv2.imread(mask_brand_path, 0)\n",
    "    inv_mask = cv2.bitwise_not(mask)\n",
    "    inv_mask_brand = cv2.bitwise_not(mask_brand)\n",
    "\n",
    "    def doNothing(x):\n",
    "        pass\n",
    "\n",
    "    # creating a resizable window named Track Bars\n",
    "    cv2.namedWindow('Track Bars', cv2.WINDOW_NORMAL)\n",
    "\n",
    "    # creating track bars for gathering threshold values of red green and blue\n",
    "    cv2.createTrackbar('h', 'Track Bars', 0, 180, doNothing)\n",
    "    cv2.createTrackbar('s', 'Track Bars', 0, 255, doNothing)\n",
    "    cv2.createTrackbar('v', 'Track Bars', 0, 255, doNothing)\n",
    "\n",
    "    # creating a loop to get the feedback of the changes in trackbars\n",
    "    while True:\n",
    "        try:\n",
    "            # reading the trackbar values for thresholds\n",
    "            h_value = cv2.getTrackbarPos('h', 'Track Bars')\n",
    "            s_value = cv2.getTrackbarPos('s', 'Track Bars')\n",
    "            v_value = cv2.getTrackbarPos('v', 'Track Bars')\n",
    "        except:\n",
    "            break\n",
    "\n",
    "        h = np.mod(h_base + h_value, 180)\n",
    "        s = np.clip(s_base - s_value, 0, 255)\n",
    "        v = np.clip(v_base + v_value, 0, 255)\n",
    "        hsv = cv2.merge([h, s, v])\n",
    "\n",
    "        bgr = cv2.cvtColor(hsv, cv2.COLOR_HSV2BGR)\n",
    "\n",
    "        result_raw = cv2.bitwise_or(cv2.bitwise_and(img, img, mask=inv_mask), cv2.bitwise_and(bgr, bgr, mask=mask))\n",
    "        result_raw_with_brand = cv2.bitwise_or(cv2.bitwise_and(result_raw, result_raw, mask=inv_mask_brand), cv2.bitwise_and(original_image, original_image, mask=mask_brand))\n",
    "        result = cv2.bitwise_or(cv2.bitwise_and(original_image, original_image, mask=inv_mask), cv2.bitwise_and(result_raw_with_brand, result_raw_with_brand, mask=mask))\n",
    "        \n",
    "        # showing the resulting image\n",
    "        cv2.imshow('Result', result)\n",
    "\n",
    "        # checking if q key is pressed to break out of loop\n",
    "        key = cv2.waitKey(25)\n",
    "        if key == ord('q'):\n",
    "            break\n",
    "\n",
    "    # destroying all windows\n",
    "    cv2.destroyAllWindows()"
   ]
  },
  {
   "cell_type": "code",
   "execution_count": 65,
   "metadata": {},
   "outputs": [],
   "source": [
    "change_color_of_hearing_aids(INPUT_IMAGE_FILE_PATH, INPUT_IMAGE_FILE_ONLY_HEARING_AIDS_NO_BRAND_PATH, MASK_SMOOTH_FILE_PATH, MASK_BRAND_FILE_PATH)"
   ]
  },
  {
   "cell_type": "code",
   "execution_count": null,
   "metadata": {},
   "outputs": [],
   "source": [
    "# accidentally came across a black and white see through image with XOR. Could be useful?\n",
    "img = cv2.imread(INPUT_IMAGE_FILE_ONLY_HEARING_AIDS_NO_BRAND_PATH)\n",
    "original_image = cv2.imread(INPUT_IMAGE_FILE_ONLY_HEARING_AIDS_PATH)\n",
    "mask_brand = cv2.imread(MASK_BRAND_FILE_PATH, 0)\n",
    "result = cv2.bitwise_xor(cv2.cvtColor(original_image, cv2.COLOR_BGR2GRAY), cv2.bitwise_not(mask_brand))\n",
    "cv2.imwrite(INPUT_IMAGE_FILE_ONLY_HEARING_AIDS_SKELETON_PATH, result)\n",
    "\n",
    "cv2.imshow('img', img)\n",
    "cv2.imshow('original_image', original_image)\n",
    "cv2.imshow('mask_brand', mask_brand)\n",
    "cv2.imshow('result', result)\n",
    "cv2.waitKey(0)\n",
    "cv2.destroyAllWindows()"
   ]
  }
 ],
 "metadata": {
  "kernelspec": {
   "display_name": ".venv",
   "language": "python",
   "name": "python3"
  },
  "language_info": {
   "codemirror_mode": {
    "name": "ipython",
    "version": 3
   },
   "file_extension": ".py",
   "mimetype": "text/x-python",
   "name": "python",
   "nbconvert_exporter": "python",
   "pygments_lexer": "ipython3",
   "version": "3.9.13"
  },
  "orig_nbformat": 4
 },
 "nbformat": 4,
 "nbformat_minor": 2
}
